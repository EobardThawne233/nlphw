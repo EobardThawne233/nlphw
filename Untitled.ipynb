{
 "cells": [
  {
   "cell_type": "code",
   "execution_count": 2,
   "id": "048907b3-9639-4536-a1c9-7149c29c034b",
   "metadata": {
    "tags": []
   },
   "outputs": [
    {
     "name": "stderr",
     "output_type": "stream",
     "text": [
      "2024-01-10 11:44:45,368 - modelscope - WARNING - Model revision not specified, use revision: v1.0.1\n",
      "Downloading: 100%|██████████| 1.31k/1.31k [00:00<00:00, 514kB/s]\n",
      "Downloading: 100%|██████████| 40.0/40.0 [00:00<00:00, 15.5kB/s]\n",
      "Downloading: 100%|██████████| 2.33k/2.33k [00:00<00:00, 913kB/s]\n",
      "Downloading: 100%|██████████| 4.04k/4.04k [00:00<00:00, 334kB/s]\n",
      "Downloading: 100%|██████████| 54.5k/54.5k [00:00<00:00, 1.14MB/s]\n",
      "Downloading: 100%|█████████▉| 1.70G/1.70G [00:25<00:00, 71.4MB/s]\n",
      "Downloading: 100%|█████████▉| 1.83G/1.83G [00:29<00:00, 67.4MB/s]\n",
      "Downloading: 100%|█████████▉| 1.80G/1.80G [00:27<00:00, 70.2MB/s]\n",
      "Downloading: 100%|█████████▉| 1.69G/1.69G [00:27<00:00, 66.2MB/s]\n",
      "Downloading: 100%|█████████▉| 1.83G/1.83G [00:28<00:00, 67.9MB/s]\n",
      "Downloading: 100%|█████████▉| 1.80G/1.80G [00:29<00:00, 65.1MB/s]\n",
      "Downloading: 100%|█████████▉| 0.98G/0.98G [00:14<00:00, 70.7MB/s]\n",
      "Downloading: 100%|██████████| 20.0k/20.0k [00:00<00:00, 876kB/s]\n",
      "Downloading: 100%|██████████| 14.3k/14.3k [00:00<00:00, 651kB/s]\n",
      "Downloading: 100%|██████████| 4.98k/4.98k [00:00<00:00, 383kB/s]\n",
      "Downloading: 100%|██████████| 11.0k/11.0k [00:00<00:00, 433kB/s]\n",
      "Downloading: 100%|██████████| 995k/995k [00:00<00:00, 6.56MB/s]\n",
      "Downloading: 100%|██████████| 244/244 [00:00<00:00, 90.0kB/s]\n"
     ]
    }
   ],
   "source": [
    "from modelscope import snapshot_download\n",
    "model_dir = snapshot_download('ZhipuAI/chatglm3-6b-32k', cache_dir='/root/autodl-tmp/LLaMA-Factory')"
   ]
  }
 ],
 "metadata": {
  "kernelspec": {
   "display_name": "Python 3 (ipykernel)",
   "language": "python",
   "name": "python3"
  },
  "language_info": {
   "codemirror_mode": {
    "name": "ipython",
    "version": 3
   },
   "file_extension": ".py",
   "mimetype": "text/x-python",
   "name": "python",
   "nbconvert_exporter": "python",
   "pygments_lexer": "ipython3",
   "version": "3.8.10"
  }
 },
 "nbformat": 4,
 "nbformat_minor": 5
}
